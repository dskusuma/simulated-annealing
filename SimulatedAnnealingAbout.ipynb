{
 "cells": [
  {
   "cell_type": "code",
   "execution_count": 1,
   "metadata": {},
   "outputs": [],
   "source": [
    "from IPython.display import Math\n",
    "import numpy as np"
   ]
  },
  {
   "cell_type": "markdown",
   "metadata": {},
   "source": [
    "# Simulated Annealing\n",
    "\n",
    "## Procedure\n",
    "Metode simulated annealing mensimulasikan proses dari _slow-cooling_ dari pencairan metal untuk mencapai nilai fungsi minimum di sebuah _minimization problem_. Fenomena pendinginan dalam pencairan metal disimulasikan dengan parameter seperti-temperatur dan mengontrolnya menggunakan konsep **Boltzmann's probability distribution**. _Boltzmann's probability distribution_ mengimplikasikan bahwa energi (**E**) dari sebuah sistem dalam equilibrium termal apda temperatur **T** didistribusikan secara probabilistik sesuai dengan relasi:\n",
    "\n",
    "**(Equation 13.14):**"
   ]
  },
  {
   "cell_type": "code",
   "execution_count": 2,
   "metadata": {},
   "outputs": [
    {
     "data": {
      "text/latex": [
       "$$P(E) = e^{-E/kT}$$"
      ],
      "text/plain": [
       "<IPython.core.display.Math object>"
      ]
     },
     "execution_count": 2,
     "metadata": {},
     "output_type": "execute_result"
    }
   ],
   "source": [
    "Math(r'P(E) = e^{-E/kT}')"
   ]
  },
  {
   "cell_type": "markdown",
   "metadata": {},
   "source": [
    "di mana **P(E)** adalah probabilitas untuk mencapai level energi **E**, dan **k** adalah konstan Boltzmann'z. **Eq13.14** menunjukkan bahwa pada temperatur tinggi sistem memiliki sebuah probabilitas uniform dari wujud pada setiap keadaan energi; meskipun demikian, pada temperatur rendah, sistem memiliki probabilitas yang kecil dari wujud pada keadaan energi tinggi. Ini mengindikasikan bahwa pada proses pencarian diasumsikan mengikuti _Boltzmann's probability distribution_, konvergensi dari algoritma _simulated annealing_ dapat dikontrol dengan mengontrol temperatur **T**. Metode dari implementasi _Boltzmann's probability distribution_ di sistem simulasi termodinamika (diusulkan oleh Metropolis et al.) juga dapat digunakan dalam konteks minimasi fungsi.\n",
    "\n",
    "Dalam kasus minimasi fungsi, misal **design point** saat ini (**state**) adalah:"
   ]
  },
  {
   "cell_type": "code",
   "execution_count": 3,
   "metadata": {},
   "outputs": [
    {
     "data": {
      "text/latex": [
       "$$X_i$$"
      ],
      "text/plain": [
       "<IPython.core.display.Math object>"
      ]
     },
     "execution_count": 3,
     "metadata": {},
     "output_type": "execute_result"
    }
   ],
   "source": [
    "Math(r'X_i')"
   ]
  },
  {
   "cell_type": "markdown",
   "metadata": {},
   "source": [
    "dengan nilai fungsi objektif diberikan oleh"
   ]
  },
  {
   "cell_type": "code",
   "execution_count": 4,
   "metadata": {},
   "outputs": [
    {
     "data": {
      "text/latex": [
       "$$f_i = f(\\textbf{X}_i)$$"
      ],
      "text/plain": [
       "<IPython.core.display.Math object>"
      ]
     },
     "execution_count": 4,
     "metadata": {},
     "output_type": "execute_result"
    }
   ],
   "source": [
    "Math(r'f_i = f(\\textbf{X}_i)')"
   ]
  },
  {
   "cell_type": "markdown",
   "metadata": {},
   "source": [
    "Mirip dengan **energy state** dari sebuah sistem termodinamika, energi Ei pada state Xi diberikan oleh:\n",
    "\n",
    "**(Equation 13.15)**:"
   ]
  },
  {
   "cell_type": "code",
   "execution_count": 5,
   "metadata": {},
   "outputs": [
    {
     "data": {
      "text/latex": [
       "$$E_i = f_i = f(\\textbf{X}_i)$$"
      ],
      "text/plain": [
       "<IPython.core.display.Math object>"
      ]
     },
     "execution_count": 5,
     "metadata": {},
     "output_type": "execute_result"
    }
   ],
   "source": [
    "Math(r'E_i = f_i = f(\\textbf{X}_i)')"
   ]
  },
  {
   "cell_type": "markdown",
   "metadata": {},
   "source": [
    "Kemudian, berdasarkan **Metropolis criterion**, probabilitas dari **design point** (state) selanjutnya"
   ]
  },
  {
   "cell_type": "code",
   "execution_count": 6,
   "metadata": {},
   "outputs": [
    {
     "data": {
      "text/latex": [
       "$$X_{i+1}$$"
      ],
      "text/plain": [
       "<IPython.core.display.Math object>"
      ]
     },
     "execution_count": 6,
     "metadata": {},
     "output_type": "execute_result"
    }
   ],
   "source": [
    "Math(r'X_{i+1}')"
   ]
  },
  {
   "cell_type": "markdown",
   "metadata": {},
   "source": [
    "bergantung pada selisih pada **energy state** atau nilai fungsi pada dua **design point** (states) yang ditunjukkan oleh:\n",
    "\n",
    "**(Equation 13.16)**:"
   ]
  },
  {
   "cell_type": "code",
   "execution_count": 7,
   "metadata": {},
   "outputs": [
    {
     "data": {
      "text/latex": [
       "$$\\Delta E = E_{i+1} - E_i = \\Delta f = f_{i+1} - f_i \\equiv f(\\textbf{X}_{i+1}) - f(\\textbf{X}_i)$$"
      ],
      "text/plain": [
       "<IPython.core.display.Math object>"
      ]
     },
     "execution_count": 7,
     "metadata": {},
     "output_type": "execute_result"
    }
   ],
   "source": [
    "Math(r'\\Delta E = E_{i+1} - E_i = \\Delta f = f_{i+1} - f_i \\equiv f(\\textbf{X}_{i+1}) - f(\\textbf{X}_i)') "
   ]
  },
  {
   "cell_type": "markdown",
   "metadata": {},
   "source": [
    "State yang baru atau **design point** Xi+1 dapat dicari menggunakan **Boltzmann's probability distributions** :\n",
    "\n",
    "**(Equation 13.17)**:"
   ]
  },
  {
   "cell_type": "code",
   "execution_count": 8,
   "metadata": {},
   "outputs": [
    {
     "data": {
      "text/latex": [
       "$$P\\left [ E_{i+1} \\right ] = \\min \\left \\{ 1, e^{\\Delta E / k T} \\right \\}$$"
      ],
      "text/plain": [
       "<IPython.core.display.Math object>"
      ]
     },
     "execution_count": 8,
     "metadata": {},
     "output_type": "execute_result"
    }
   ],
   "source": [
    "Math(r'P\\left [ E_{i+1} \\right ] = \\min \\left \\{ 1, e^{\\Delta E / k T} \\right \\}') "
   ]
  },
  {
   "cell_type": "markdown",
   "metadata": {},
   "source": [
    "Konstan Boltzmann's berfungsi sebagai **scaling factor** di simulated annealing dan, dengan demikian, dapat dipilih sebagai 1 untuk kemudahan. Ingat bahwa jika"
   ]
  },
  {
   "cell_type": "code",
   "execution_count": 9,
   "metadata": {},
   "outputs": [
    {
     "data": {
      "text/latex": [
       "$$\\Delta E \\leq 0$$"
      ],
      "text/plain": [
       "<IPython.core.display.Math object>"
      ]
     },
     "execution_count": 9,
     "metadata": {},
     "output_type": "execute_result"
    }
   ],
   "source": [
    "Math(r'\\Delta E \\leq 0')"
   ]
  },
  {
   "cell_type": "markdown",
   "metadata": {},
   "source": [
    "**Eq.(13.17)** memberikan P\\[Ei+1\\] = 1 dan karenanya Xi+1 selalu diterima. "
   ]
  }
 ],
 "metadata": {
  "kernelspec": {
   "display_name": "Python 3",
   "language": "python",
   "name": "python3"
  },
  "language_info": {
   "codemirror_mode": {
    "name": "ipython",
    "version": 3
   },
   "file_extension": ".py",
   "mimetype": "text/x-python",
   "name": "python",
   "nbconvert_exporter": "python",
   "pygments_lexer": "ipython3",
   "version": "3.6.5"
  }
 },
 "nbformat": 4,
 "nbformat_minor": 2
}
