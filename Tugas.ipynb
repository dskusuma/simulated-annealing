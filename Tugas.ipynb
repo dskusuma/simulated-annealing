{
 "cells": [
  {
   "cell_type": "code",
   "execution_count": 19,
   "metadata": {},
   "outputs": [],
   "source": [
    "from IPython.display import Math\n",
    "import numpy as np"
   ]
  },
  {
   "cell_type": "markdown",
   "metadata": {},
   "source": [
    "## Deskripsi\n",
    "Lakukan analisis, desain, dan implementasi algoritma Simulated Annealing (SA) ke dalam suatu program komputer untuk menemukan nilai minimum dari fungsi:"
   ]
  },
  {
   "cell_type": "code",
   "execution_count": 12,
   "metadata": {},
   "outputs": [
    {
     "data": {
      "text/latex": [
       "$$f(x_1,x_2) = - \\left | sin(x_1)cos(x_2)exp \\left ( 1 - \\frac{\\sqrt{x_1^2 + x^2_2}}{\\pi} \\right ) \\right |$$"
      ],
      "text/plain": [
       "<IPython.core.display.Math object>"
      ]
     },
     "execution_count": 12,
     "metadata": {},
     "output_type": "execute_result"
    }
   ],
   "source": [
    "Math(r'f(x_1,x_2) = - \\left | sin(x_1)cos(x_2)exp \\left ( 1 - \\frac{\\sqrt{x_1^2 + x^2_2}}{\\pi} \\right ) \\right |')"
   ]
  },
  {
   "cell_type": "markdown",
   "metadata": {},
   "source": [
    "dengan batasan"
   ]
  },
  {
   "cell_type": "code",
   "execution_count": 14,
   "metadata": {},
   "outputs": [
    {
     "data": {
      "text/latex": [
       "$$-10 \\leq x_1 \\leq 10$$"
      ],
      "text/plain": [
       "<IPython.core.display.Math object>"
      ]
     },
     "execution_count": 14,
     "metadata": {},
     "output_type": "execute_result"
    }
   ],
   "source": [
    "Math(r'-10 \\leq x_1 \\leq 10') "
   ]
  },
  {
   "cell_type": "markdown",
   "metadata": {},
   "source": [
    "dan"
   ]
  },
  {
   "cell_type": "code",
   "execution_count": 15,
   "metadata": {},
   "outputs": [
    {
     "data": {
      "text/latex": [
       "$$-10 \\leq x_2 \\leq 10$$"
      ],
      "text/plain": [
       "<IPython.core.display.Math object>"
      ]
     },
     "execution_count": 15,
     "metadata": {},
     "output_type": "execute_result"
    }
   ],
   "source": [
    "Math(r'-10 \\leq x_2 \\leq 10')"
   ]
  },
  {
   "cell_type": "markdown",
   "metadata": {},
   "source": [
    "Akurasi SA dihitung berdasarkan formula:"
   ]
  },
  {
   "cell_type": "code",
   "execution_count": 17,
   "metadata": {},
   "outputs": [
    {
     "data": {
      "text/latex": [
       "$$Akurasi SA = \\left ( 1 - \\left | \\frac{f_A -  f_R}{f_R} \\right | \\right ) \\times 100\\%$$"
      ],
      "text/plain": [
       "<IPython.core.display.Math object>"
      ]
     },
     "execution_count": 17,
     "metadata": {},
     "output_type": "execute_result"
    }
   ],
   "source": [
    "Math(r'Akurasi SA = \\left ( 1 - \\left | \\frac{f_A -  f_R}{f_R} \\right | \\right ) \\times 100\\%') "
   ]
  },
  {
   "cell_type": "markdown",
   "metadata": {},
   "source": [
    "di mana f_a adalah nilai minimum yang Anda dapatkan dan f_r adalah nilai minimum yang diasumsikan paling realistis oleh dosen."
   ]
  },
  {
   "cell_type": "markdown",
   "metadata": {},
   "source": [
    "# Algoritma"
   ]
  },
  {
   "cell_type": "markdown",
   "metadata": {},
   "source": [
    "1. Mulai dengan initial vector, X1, initial temperature and other parameters (T,n,e)\n",
    "2. Find f1 = f(X1), Set iteration number i = 1, and cycle number p = 1\n",
    "3. Generate design point baru Xi+1 (in the vicinity of Xi). Hitung fi+1 = f(Xi+1) dan Df = fi+1 - fi\n",
    "4. Accept or Reject Xi+1, menggunakan Metropolis criterion. Update nilai iterasi sebagai i = 1+1\n",
    "5. **Conditional** Cek apakah nilai iterasi i > n? : **No**: balik ke 3 || **Yes**: lanjut\n",
    "6. Update jumlah cycles sebagai p=p+1. Set nomor iterasi i = 1\n",
    "7. Kurangi temperatur\n",
    "8 **Conditional** Apakah kriteria konvergensi terpenuhi? : **No**: balik ke 3 || **Yes**: Stop"
   ]
  },
  {
   "cell_type": "markdown",
   "metadata": {},
   "source": [
    "# Code"
   ]
  },
  {
   "cell_type": "markdown",
   "metadata": {},
   "source": [
    "Fungsi yang akan diminimasi:"
   ]
  },
  {
   "cell_type": "code",
   "execution_count": 49,
   "metadata": {},
   "outputs": [],
   "source": [
    "# Input: x1 dan x2\n",
    "def f(x1,x2):\n",
    "    \"Fungsi yang akan diminimasi\"\n",
    "    sinx1 = np.sin(x1)\n",
    "    cosx2 = np.cos(x2)\n",
    "    ex = np.exp(1 - (np.sqrt(np.square(x1) + np.square(x2))/np.pi))\n",
    "    sol = - np.absolute(sinx1 * cosx2 * ex)\n",
    "    return sol\n",
    "\n",
    "# def f(x1,x2):\n",
    "#     return -1 * np.absolute(np.sin(x1) * np.cos(x2) * np.exp(1 - (np.sqrt())) )"
   ]
  },
  {
   "cell_type": "markdown",
   "metadata": {},
   "source": [
    "### Simulated Annealing"
   ]
  },
  {
   "cell_type": "markdown",
   "metadata": {},
   "source": [
    "#### Tahap 1\n",
    "Menentukan parameter untuk metode Simulated Annealing : Temperature (T), iterasi (n), dan faktor pengurang (c)"
   ]
  },
  {
   "cell_type": "code",
   "execution_count": 54,
   "metadata": {},
   "outputs": [
    {
     "name": "stdout",
     "output_type": "stream",
     "text": [
      "Inisilasi X \n",
      "x1\t= -0.5751700144836569 \n",
      "x2\t= 9.80858826371906 \n",
      "f\t= -0.06008955123438878\n"
     ]
    }
   ],
   "source": [
    "from random import uniform\n",
    "\n",
    "# Inisialisasi x1 dan x2\n",
    "initx1 = uniform(-10,10)\n",
    "initx2 = uniform(-10,10)\n",
    "\n",
    "# Init F\n",
    "initf = f(initx1,initx2)\n",
    "\n",
    "print('Inisilasi X \\nx1\\t= {} \\nx2\\t= {} \\nf\\t= {}'.format(initx1,initx2,initf))"
   ]
  },
  {
   "cell_type": "code",
   "execution_count": 56,
   "metadata": {},
   "outputs": [
    {
     "name": "stdout",
     "output_type": "stream",
     "text": [
      "TemperatureReduction(c)\t= 0.5 \n",
      "JumlahIterasi(n)\t= 2\n"
     ]
    }
   ],
   "source": [
    "# Iterasi\n",
    "n = 2\n",
    "\n",
    "# Temperature reduction / cooling rate\n",
    "c = 0.5\n",
    "\n",
    "print('TemperatureReduction(c)\\t= {} \\nJumlahIterasi(n)\\t= {}'.format(c,n))"
   ]
  },
  {
   "cell_type": "code",
   "execution_count": 61,
   "metadata": {},
   "outputs": [],
   "source": [
    "def SimulatedAnnealing(initf, iterasi, coolingrate):\n",
    "    fi = initf\n",
    "    i = 0\n",
    "    currentsol = 0\n",
    "    while i<iterasi:\n",
    "        # Generate x1 dan x2 yang baru\n",
    "        print('--------------')\n",
    "        print('Iterasi ke-{}'.format(i+1))\n",
    "        print('fi\\t={}',)\n",
    "        x1 = uniform(-10,10)\n",
    "        x2 = uniform(-10,10)\n",
    "        \n",
    "        print('x1\\t={}\\nx2\\t={}'.format(x1,x2))\n",
    "        \n",
    "        fii = f(x1,x2)\n",
    "        print('fi+1\\t={}'.format(fii))\n",
    "        Df = MetropolisCriterion(fii,fi)\n",
    "        \n",
    "        print('Df\\t={}'.format(Df))\n",
    "        \n",
    "        if(Df>0):\n",
    "            # Jika nilai Df positif maka gunakan Metropolis Criterion\n",
    "            # untuk menentukan apakah point sekarang diterima atau ditolak\n",
    "            r = uniform(0,1)\n",
    "            \n",
    "            # Untuk kemudahan, set k = 1\n",
    "            k = 1\n",
    "            \n",
    "            # Hitung probabilitas menerima fii\n",
    "            p = ProbabilityOfAcceptingXii(Df,k,fi)\n",
    "            \n",
    "            if r < p:\n",
    "                # Jika r < p, maka terima fii sebagai designpoint selanjutnya\n",
    "                fi = fii\n",
    "                i = i+1\n",
    "        else:\n",
    "            fi = fii\n",
    "            i = i+1\n",
    "        \n",
    "        print('--------------')\n",
    "        \n",
    "    T = "
   ]
  },
  {
   "cell_type": "code",
   "execution_count": 51,
   "metadata": {},
   "outputs": [
    {
     "name": "stdout",
     "output_type": "stream",
     "text": [
      "0\n",
      "1\n"
     ]
    }
   ],
   "source": [
    "for i in range(n):\n",
    "    print(i)"
   ]
  },
  {
   "cell_type": "markdown",
   "metadata": {},
   "source": [
    "<br>\n",
    "<hr>\n",
    "#### Metropolis Criterion (Eq 13.16)"
   ]
  },
  {
   "cell_type": "code",
   "execution_count": 59,
   "metadata": {},
   "outputs": [
    {
     "data": {
      "text/latex": [
       "$$\\Delta E = E_{i+1} - E_i = \\Delta f = f_{i+1} - f_i \\equiv f(\\textbf{X}_{i+1}) - f(\\textbf{X}_i)$$"
      ],
      "text/plain": [
       "<IPython.core.display.Math object>"
      ]
     },
     "execution_count": 59,
     "metadata": {},
     "output_type": "execute_result"
    }
   ],
   "source": [
    "Math(r'\\Delta E = E_{i+1} - E_i = \\Delta f = f_{i+1} - f_i \\equiv f(\\textbf{X}_{i+1}) - f(\\textbf{X}_i)') "
   ]
  },
  {
   "cell_type": "code",
   "execution_count": 62,
   "metadata": {},
   "outputs": [],
   "source": [
    "def MetropolisCriterion(fii, fi):\n",
    "    Df = fii - fi\n",
    "    return Df"
   ]
  },
  {
   "cell_type": "markdown",
   "metadata": {},
   "source": [
    "<br>\n",
    "#### Boltzmann's Probability Distributions (Eq 13.17)"
   ]
  },
  {
   "cell_type": "code",
   "execution_count": 63,
   "metadata": {},
   "outputs": [
    {
     "data": {
      "text/latex": [
       "$$P\\left [ E_{i+1} \\right ] = \\min \\left \\{ 1, e^{\\Delta E / k T} \\right \\}$$"
      ],
      "text/plain": [
       "<IPython.core.display.Math object>"
      ]
     },
     "execution_count": 63,
     "metadata": {},
     "output_type": "execute_result"
    }
   ],
   "source": [
    "Math(r'P\\left [ E_{i+1} \\right ] = \\min \\left \\{ 1, e^{\\Delta E / k T} \\right \\}') "
   ]
  },
  {
   "cell_type": "code",
   "execution_count": null,
   "metadata": {},
   "outputs": [],
   "source": [
    "def BoltzmannProbabilityDistribution(E,k,T):\n",
    "    Eii = "
   ]
  },
  {
   "cell_type": "markdown",
   "metadata": {},
   "source": [
    "<br>\n",
    "#### Probability of Accepting Xi+1 (Eq 13.18)"
   ]
  },
  {
   "cell_type": "code",
   "execution_count": 64,
   "metadata": {},
   "outputs": [
    {
     "data": {
      "text/latex": [
       "$$P\\left [ E_{i+1} \\right ] =  \\left \\{ e^{- \\Delta E / k T} \\right \\}$$"
      ],
      "text/plain": [
       "<IPython.core.display.Math object>"
      ]
     },
     "execution_count": 64,
     "metadata": {},
     "output_type": "execute_result"
    }
   ],
   "source": [
    "Math(r'P\\left [ E_{i+1} \\right ] =  \\left \\{ e^{- \\Delta E / k T} \\right \\}')"
   ]
  },
  {
   "cell_type": "code",
   "execution_count": 66,
   "metadata": {},
   "outputs": [],
   "source": [
    "def ProbabilityOfAcceptingXii(Df, k, T):\n",
    "    sol = np.exp((-Df) / (k*T))\n",
    "    return sol"
   ]
  },
  {
   "cell_type": "markdown",
   "metadata": {},
   "source": [
    "<br>\n",
    "#### Akurasi SA"
   ]
  },
  {
   "cell_type": "code",
   "execution_count": 68,
   "metadata": {},
   "outputs": [
    {
     "data": {
      "text/latex": [
       "$$AkurasiSA = \\left ( 1 - \\left | \\frac{f_A - f_R}{f_R} \\right | \\right ) \\times 100 \\%$$"
      ],
      "text/plain": [
       "<IPython.core.display.Math object>"
      ]
     },
     "execution_count": 68,
     "metadata": {},
     "output_type": "execute_result"
    }
   ],
   "source": [
    "Math(r'AkurasiSA = \\left ( 1 - \\left | \\frac{f_A - f_R}{f_R} \\right | \\right ) \\times 100 \\%')"
   ]
  },
  {
   "cell_type": "code",
   "execution_count": 69,
   "metadata": {},
   "outputs": [],
   "source": [
    "def AkurasiSA(fA,fR):\n",
    "    akurasi = (1 - np.absolute((fA-fR)/fR)) * 100 / 100\n",
    "    return akurasi"
   ]
  },
  {
   "cell_type": "code",
   "execution_count": null,
   "metadata": {},
   "outputs": [],
   "source": []
  }
 ],
 "metadata": {
  "kernelspec": {
   "display_name": "Python 3",
   "language": "python",
   "name": "python3"
  },
  "language_info": {
   "codemirror_mode": {
    "name": "ipython",
    "version": 3
   },
   "file_extension": ".py",
   "mimetype": "text/x-python",
   "name": "python",
   "nbconvert_exporter": "python",
   "pygments_lexer": "ipython3",
   "version": "3.6.5"
  }
 },
 "nbformat": 4,
 "nbformat_minor": 2
}
